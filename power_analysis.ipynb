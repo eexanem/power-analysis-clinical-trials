{
 "cells": [
  {
   "cell_type": "markdown",
   "id": "04b5aad9-1e24-45cb-8aea-c418cce1aca7",
   "metadata": {},
   "source": [
    "# Power Analysis & Sampling Bias Simulation in Clinical Trials  \n",
    "**Author:** eex(NS)  \n",
    "**Date:** 2025-03-03 \n",
    "\n",
    "## Description  \n",
    "This Jupyter Notebook performs power analysis and sampling bias simulations using R in an interactive format.  \n",
    "\n",
    "## Introduction  \n",
    "Clinical trials often face a trade-off:  \n",
    "- **Small but highly accurate datasets (95% accuracy)**  \n",
    "- **Large but error-prone datasets (60% accuracy)**  \n",
    "\n",
    "We will use **Monte Carlo simulations** and **power analysis** to determine the impact of data quality on estimating drug utilization rates.  \n"
   ]
  },
  {
   "cell_type": "markdown",
   "id": "7d02b966-27ee-421c-944b-aee77cb25bfb",
   "metadata": {},
   "source": [
    "## Load Required Libraries  \n",
    "We use R libraries for power analysis, simulations, and visualization."
   ]
  },
  {
   "cell_type": "code",
   "execution_count": 5,
   "id": "25453790-23a1-4c18-bc1a-0f2983915a99",
   "metadata": {},
   "outputs": [],
   "source": [
    "library(pwr)         # Power analysis  \n",
    "library(simstudy)    # Simulating data  \n",
    "library(boot)        # Bootstrapping  \n",
    "library(ggplot2)     # Data visualization  \n",
    "library(dplyr)       # Data manipulation  "
   ]
  },
  {
   "cell_type": "markdown",
   "id": "1d207cd3-d592-4c45-b467-29ffc581a8ef",
   "metadata": {},
   "source": [
    "## Define Study Parameters  \n",
    "We define key parameters for the study:  \n",
    "- **True utilization rate:** 20% of patients use the drug.  \n",
    "- **Small dataset:** 500 samples with 95% accuracy.  \n",
    "- **Large dataset:** 5000 samples with 60% accuracy.  \n",
    "- **Error rates:** Comparing a **5%** vs **40%** error rate.  \n"
   ]
  },
  {
   "cell_type": "code",
   "execution_count": 6,
   "id": "2acc3836-3d2c-4304-9585-bde7bf91344c",
   "metadata": {},
   "outputs": [],
   "source": [
    "# Set parameters  \n",
    "true_utilization <- 0.20  # True national utilization rate\n",
    "small_sample_size <- 500  # Small, highly accurate dataset\n",
    "large_sample_size <- 5000  # Large, error-prone dataset\n",
    "accuracy_small <- 0.95  # 95% accurate data\n",
    "accuracy_large <- 0.60  # 60% accurate data\n",
    "error_rates <- c(0.05, 0.40)  # Comparing 5% and 40% error rates"
   ]
  },
  {
   "cell_type": "markdown",
   "id": "49f6006c-485d-49a3-afc6-4be59b9265cc",
   "metadata": {},
   "source": [
    "## Generate Simulated Data with Errors  \n",
    "We generate two datasets:  \n",
    "- A **small but highly accurate dataset** (95% accuracy).  \n",
    "- A **large but error-prone dataset** (60% accuracy).  \n",
    "\n",
    "Each dataset introduces errors **to mimic real-world clinical data challenges**.  "
   ]
  },
  {
   "cell_type": "code",
   "execution_count": 7,
   "id": "a17dfdde-73f5-4dfb-8987-449b3a38ffd4",
   "metadata": {},
   "outputs": [],
   "source": [
    "generate_data <- function(n, accuracy) {  \n",
    "  true_labels <- rbinom(n, 1, true_utilization)  # True values  \n",
    "  observed_labels <- ifelse(runif(n) < accuracy, true_labels, 1 - true_labels)  # Introduce errors  \n",
    "  return(data.frame(True = true_labels, Observed = observed_labels))  \n",
    "}  "
   ]
  },
  {
   "cell_type": "code",
   "execution_count": 8,
   "id": "998beb5b-eddc-45a7-a8c6-d0cfa9fc0411",
   "metadata": {},
   "outputs": [],
   "source": [
    "# Generate datasets\n",
    "small_accurate_data <- generate_data(small_sample_size, accuracy_small)\n",
    "large_error_prone_data <- generate_data(large_sample_size, accuracy_large)"
   ]
  },
  {
   "cell_type": "markdown",
   "id": "5c040013-5909-4483-a602-f4cfc5257097",
   "metadata": {},
   "source": [
    "## Power Analysis  \n",
    "We calculate statistical power to determine how different sample sizes affect the accuracy of our clinical trial results.  \n",
    "\n",
    "**Key step:**  \n",
    "- Compute **effect size** for the difference in observed vs. true utilization.  \n",
    "- Use **power analysis** to determine the sample size needed for reliable results.  "
   ]
  },
  {
   "cell_type": "code",
   "execution_count": 9,
   "id": "1bfbd69e-c07c-4d8e-8487-0d3d87831c0b",
   "metadata": {},
   "outputs": [],
   "source": [
    "calculate_power <- function(n, effect_size, sig_level = 0.05, power = NULL) {  \n",
    "  return(pwr.p.test(h = effect_size, n = n, sig.level = sig_level, power = power))  \n",
    "}  \n",
    "\n",
    "# Calculate effect size  \n",
    "effect_size <- ES.h(p1 = true_utilization, p2 = mean(small_accurate_data$Observed))  \n",
    "\n",
    "# Compute power analysis  \n",
    "power_small <- calculate_power(n = small_sample_size, effect_size = effect_size)  \n",
    "power_large <- calculate_power(n = large_sample_size, effect_size = effect_size)  "
   ]
  },
  {
   "cell_type": "markdown",
   "id": "fd7b2a2d-36c6-4109-97db-9de59d08a2e9",
   "metadata": {},
   "source": [
    "## Monte Carlo Simulation  \n",
    "We run 1000 simulations for each dataset to estimate utilization rates and visualize sampling bias.  "
   ]
  },
  {
   "cell_type": "code",
   "execution_count": 10,
   "id": "a134ff5d-76e2-4cbf-b73a-f87984a8dd11",
   "metadata": {},
   "outputs": [],
   "source": [
    "simulate_sampling_bias <- function(n, accuracy, iterations = 1000) {\n",
    "  results <- replicate(iterations, {\n",
    "    data <- generate_data(n, accuracy)\n",
    "    mean(data$Observed)  # Estimate utilization rate\n",
    "  })\n",
    "  return(results)\n",
    "}\n",
    "\n",
    "# Run simulations\n",
    "set.seed(123)\n",
    "sim_small <- simulate_sampling_bias(small_sample_size, accuracy_small)\n",
    "sim_large <- simulate_sampling_bias(large_sample_size, accuracy_large)"
   ]
  },
  {
   "cell_type": "markdown",
   "id": "dfe151d9-fa78-4805-b714-5898da1d4772",
   "metadata": {},
   "source": [
    "## Visualization of Sampling Bias  \n",
    "The density plot shows how different sampling errors affect utilization estimates.  "
   ]
  },
  {
   "cell_type": "code",
   "execution_count": 11,
   "id": "3153beab-4ece-4a55-906e-dcda4bf387a0",
   "metadata": {},
   "outputs": [
    {
     "data": {
      "image/png": "[encoded data removed]",
      "text/plain": [
       "plot without title"
      ]
     },
     "metadata": {
      "image/png": {
       "height": 420,
       "width": 420
      }
     },
     "output_type": "display_data"
    }
   ],
   "source": [
    "plot_data <- data.frame(\n",
    "  Utilization = c(sim_small, sim_large),\n",
    "  Dataset = rep(c(\"Small & Accurate\", \"Large & Error-Prone\"), each = length(sim_small))\n",
    ")\n",
    "\n",
    "ggplot(plot_data, aes(x = Utilization, fill = Dataset)) +\n",
    "  geom_density(alpha = 0.6) +\n",
    "  theme_minimal() +\n",
    "  labs(title = \"Impact of Sampling Bias on Clinical Trial Estimates\",\n",
    "       x = \"Estimated Utilization Rate\",\n",
    "       y = \"Density\")"
   ]
  },
  {
   "cell_type": "markdown",
   "id": "e398040b-d4c8-4612-bad8-e18ef516e088",
   "metadata": {},
   "source": [
    "## Conclusion  \n",
    "- **Small but accurate datasets produce more reliable estimates.**  \n",
    "- **Large error-prone datasets introduce bias and variability.**  \n",
    "- **Power analysis helps determine the ideal sample size for reliable clinical trial results.**  \n",
    "\n",
    "This analysis provides **data-driven insights** to optimize sampling strategies in clinical trials.  "
   ]
  }
 ],
 "metadata": {
  "kernelspec": {
   "display_name": "R",
   "language": "R",
   "name": "ir"
  },
  "language_info": {
   "codemirror_mode": "r",
   "file_extension": ".r",
   "mimetype": "text/x-r-source",
   "name": "R",
   "pygments_lexer": "r",
   "version": "4.3.1"
  }
 },
 "nbformat": 4,
 "nbformat_minor": 5
}
